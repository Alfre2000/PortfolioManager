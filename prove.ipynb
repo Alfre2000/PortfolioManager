{
 "metadata": {
  "language_info": {
   "codemirror_mode": {
    "name": "ipython",
    "version": 3
   },
   "file_extension": ".py",
   "mimetype": "text/x-python",
   "name": "python",
   "nbconvert_exporter": "python",
   "pygments_lexer": "ipython3",
   "version": "3.7.6-final"
  },
  "orig_nbformat": 2,
  "kernelspec": {
   "name": "Python 3.7.6 64-bit ('base': conda)",
   "display_name": "Python 3.7.6 64-bit ('base': conda)",
   "metadata": {
    "interpreter": {
     "hash": "6199434e1c69c922b780995880f4a1c964a67fae91d0cdce645c90c3ca0fcd57"
    }
   }
  }
 },
 "nbformat": 4,
 "nbformat_minor": 2,
 "cells": [
  {
   "cell_type": "code",
   "execution_count": 14,
   "metadata": {},
   "outputs": [],
   "source": [
    "from portfolio import Portfolio\n",
    "from datetime import date\n",
    "import pandas as pd\n",
    "import numpy as np"
   ]
  },
  {
   "cell_type": "code",
   "execution_count": 2,
   "metadata": {},
   "outputs": [],
   "source": [
    "p = Portfolio()"
   ]
  },
  {
   "cell_type": "code",
   "execution_count": 8,
   "metadata": {},
   "outputs": [],
   "source": [
    "data = p.data.copy()"
   ]
  },
  {
   "cell_type": "code",
   "execution_count": 10,
   "metadata": {},
   "outputs": [],
   "source": [
    "data.set_index(pd.to_datetime(data.index), inplace=True)"
   ]
  },
  {
   "cell_type": "code",
   "execution_count": 11,
   "metadata": {},
   "outputs": [],
   "source": [
    "sample_M = pd.concat([data.head(1), data.resample(\"M\").last()])"
   ]
  },
  {
   "cell_type": "code",
   "execution_count": 12,
   "metadata": {},
   "outputs": [
    {
     "output_type": "execute_result",
     "data": {
      "text/plain": [
       "            Profit/Loss  Invested  Profit/Loss%         Value        Gains  \\\n",
       "Date                                                                         \n",
       "2019-11-21   -29.620000   8057.09     -0.367627   8027.470000          NaN   \n",
       "2019-11-30    91.120000   8057.09      1.130929   8148.210000   -37.590000   \n",
       "2019-12-31   273.800000   8057.09      3.398249   8330.890000   -75.540000   \n",
       "2020-01-31    98.970000  14105.26      0.701653  14204.230000  -189.480000   \n",
       "2020-02-29 -2663.200000  25037.02    -10.637049  22373.820000 -1012.330000   \n",
       "2020-03-31 -5866.460000  26551.45    -22.094688  20684.990000   806.020000   \n",
       "2020-04-30 -3624.120000  27309.61    -13.270493  23685.490000  -369.520000   \n",
       "2020-05-31 -3026.260000  28345.78    -10.676228  25319.520000  -316.830000   \n",
       "2020-06-30 -2436.720000  28345.78     -8.596412  25909.060000   -31.660000   \n",
       "2020-07-31 -1208.150000  28345.78     -4.262186  27137.630000    40.530000   \n",
       "2020-08-31   -48.880000  28345.78     -0.172442  28296.900000    28.260000   \n",
       "2020-09-30  -402.180000  28345.78     -1.418836  27943.600000  -191.360000   \n",
       "2020-10-31  -384.400099  28345.78     -1.356110  27961.379901  -105.110099   \n",
       "\n",
       "              Gains%  \n",
       "Date                  \n",
       "2019-11-21       NaN  \n",
       "2019-11-30 -0.459210  \n",
       "2019-12-31 -0.898598  \n",
       "2020-01-31 -1.316408  \n",
       "2020-02-29 -4.328759  \n",
       "2020-03-31  4.054637  \n",
       "2020-04-30 -1.536146  \n",
       "2020-05-31 -1.401024  \n",
       "2020-06-30 -0.122047  \n",
       "2020-07-31  0.149573  \n",
       "2020-08-31  0.099969  \n",
       "2020-09-30 -0.680150  \n",
       "2020-10-31 -0.374504  "
      ],
      "text/html": "<div>\n<style scoped>\n    .dataframe tbody tr th:only-of-type {\n        vertical-align: middle;\n    }\n\n    .dataframe tbody tr th {\n        vertical-align: top;\n    }\n\n    .dataframe thead th {\n        text-align: right;\n    }\n</style>\n<table border=\"1\" class=\"dataframe\">\n  <thead>\n    <tr style=\"text-align: right;\">\n      <th></th>\n      <th>Profit/Loss</th>\n      <th>Invested</th>\n      <th>Profit/Loss%</th>\n      <th>Value</th>\n      <th>Gains</th>\n      <th>Gains%</th>\n    </tr>\n    <tr>\n      <th>Date</th>\n      <th></th>\n      <th></th>\n      <th></th>\n      <th></th>\n      <th></th>\n      <th></th>\n    </tr>\n  </thead>\n  <tbody>\n    <tr>\n      <th>2019-11-21</th>\n      <td>-29.620000</td>\n      <td>8057.09</td>\n      <td>-0.367627</td>\n      <td>8027.470000</td>\n      <td>NaN</td>\n      <td>NaN</td>\n    </tr>\n    <tr>\n      <th>2019-11-30</th>\n      <td>91.120000</td>\n      <td>8057.09</td>\n      <td>1.130929</td>\n      <td>8148.210000</td>\n      <td>-37.590000</td>\n      <td>-0.459210</td>\n    </tr>\n    <tr>\n      <th>2019-12-31</th>\n      <td>273.800000</td>\n      <td>8057.09</td>\n      <td>3.398249</td>\n      <td>8330.890000</td>\n      <td>-75.540000</td>\n      <td>-0.898598</td>\n    </tr>\n    <tr>\n      <th>2020-01-31</th>\n      <td>98.970000</td>\n      <td>14105.26</td>\n      <td>0.701653</td>\n      <td>14204.230000</td>\n      <td>-189.480000</td>\n      <td>-1.316408</td>\n    </tr>\n    <tr>\n      <th>2020-02-29</th>\n      <td>-2663.200000</td>\n      <td>25037.02</td>\n      <td>-10.637049</td>\n      <td>22373.820000</td>\n      <td>-1012.330000</td>\n      <td>-4.328759</td>\n    </tr>\n    <tr>\n      <th>2020-03-31</th>\n      <td>-5866.460000</td>\n      <td>26551.45</td>\n      <td>-22.094688</td>\n      <td>20684.990000</td>\n      <td>806.020000</td>\n      <td>4.054637</td>\n    </tr>\n    <tr>\n      <th>2020-04-30</th>\n      <td>-3624.120000</td>\n      <td>27309.61</td>\n      <td>-13.270493</td>\n      <td>23685.490000</td>\n      <td>-369.520000</td>\n      <td>-1.536146</td>\n    </tr>\n    <tr>\n      <th>2020-05-31</th>\n      <td>-3026.260000</td>\n      <td>28345.78</td>\n      <td>-10.676228</td>\n      <td>25319.520000</td>\n      <td>-316.830000</td>\n      <td>-1.401024</td>\n    </tr>\n    <tr>\n      <th>2020-06-30</th>\n      <td>-2436.720000</td>\n      <td>28345.78</td>\n      <td>-8.596412</td>\n      <td>25909.060000</td>\n      <td>-31.660000</td>\n      <td>-0.122047</td>\n    </tr>\n    <tr>\n      <th>2020-07-31</th>\n      <td>-1208.150000</td>\n      <td>28345.78</td>\n      <td>-4.262186</td>\n      <td>27137.630000</td>\n      <td>40.530000</td>\n      <td>0.149573</td>\n    </tr>\n    <tr>\n      <th>2020-08-31</th>\n      <td>-48.880000</td>\n      <td>28345.78</td>\n      <td>-0.172442</td>\n      <td>28296.900000</td>\n      <td>28.260000</td>\n      <td>0.099969</td>\n    </tr>\n    <tr>\n      <th>2020-09-30</th>\n      <td>-402.180000</td>\n      <td>28345.78</td>\n      <td>-1.418836</td>\n      <td>27943.600000</td>\n      <td>-191.360000</td>\n      <td>-0.680150</td>\n    </tr>\n    <tr>\n      <th>2020-10-31</th>\n      <td>-384.400099</td>\n      <td>28345.78</td>\n      <td>-1.356110</td>\n      <td>27961.379901</td>\n      <td>-105.110099</td>\n      <td>-0.374504</td>\n    </tr>\n  </tbody>\n</table>\n</div>"
     },
     "metadata": {},
     "execution_count": 12
    }
   ],
   "source": [
    "sample_M"
   ]
  },
  {
   "cell_type": "code",
   "execution_count": 17,
   "metadata": {},
   "outputs": [
    {
     "output_type": "execute_result",
     "data": {
      "text/plain": [
       "13"
      ]
     },
     "metadata": {},
     "execution_count": 17
    }
   ],
   "source": [
    "a = np.arange(1, len(sample_M)*4, 4)\n",
    "len(a)"
   ]
  },
  {
   "cell_type": "code",
   "execution_count": 24,
   "metadata": {},
   "outputs": [
    {
     "output_type": "execute_result",
     "data": {
      "text/plain": [
       "['Oct-2019',\n",
       " 'Nov-2019',\n",
       " 'Dec-2019',\n",
       " 'Jan-2020',\n",
       " 'Feb-2020',\n",
       " 'Mar-2020',\n",
       " 'Apr-2020',\n",
       " 'May-2020',\n",
       " 'Jun-2020',\n",
       " 'Jul-2020',\n",
       " 'Aug-2020',\n",
       " 'Sep-2020',\n",
       " 'Oct-2020']"
      ]
     },
     "metadata": {},
     "execution_count": 24
    }
   ],
   "source": [
    "months = [\"Jan\", \"Feb\", \"Mar\", \"Apr\", \"May\", \"Jun\", \"Jul\", \"Aug\", \"Sep\", \"Oct\", \"Nov\", \"Dec\"]\n",
    "b = [m + \"-\" + y for m, y in zip([months[x-1] for x in sample_M.index.month], [str(x) for x in sample_M.index.year])]\n",
    "b[0] = months[months.index(b[0][:-5]) - 1] + b[0][-5:]\n",
    "b"
   ]
  },
  {
   "cell_type": "code",
   "execution_count": 25,
   "metadata": {},
   "outputs": [
    {
     "output_type": "execute_result",
     "data": {
      "text/plain": [
       "datetime.date(2019, 11, 21)"
      ]
     },
     "metadata": {},
     "execution_count": 25
    }
   ],
   "source": [
    "p.data.index[0]"
   ]
  },
  {
   "cell_type": "code",
   "execution_count": null,
   "metadata": {},
   "outputs": [],
   "source": []
  }
 ]
}