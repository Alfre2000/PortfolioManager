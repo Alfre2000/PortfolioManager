{
 "metadata": {
  "language_info": {
   "codemirror_mode": {
    "name": "ipython",
    "version": 3
   },
   "file_extension": ".py",
   "mimetype": "text/x-python",
   "name": "python",
   "nbconvert_exporter": "python",
   "pygments_lexer": "ipython3",
   "version": "3.7.6-final"
  },
  "orig_nbformat": 2,
  "kernelspec": {
   "name": "Python 3.7.6 64-bit ('anaconda3': virtualenv)",
   "display_name": "Python 3.7.6 64-bit ('anaconda3': virtualenv)",
   "metadata": {
    "interpreter": {
     "hash": "6199434e1c69c922b780995880f4a1c964a67fae91d0cdce645c90c3ca0fcd57"
    }
   }
  }
 },
 "nbformat": 4,
 "nbformat_minor": 2,
 "cells": [
  {
   "cell_type": "code",
   "execution_count": 1,
   "metadata": {},
   "outputs": [],
   "source": [
    "from portfolio import Portfolio\n",
    "from datetime import date, timedelta, datetime\n",
    "import yfinance as yf\n",
    "import pandas as pd\n",
    "from etf import ETF\n",
    "import numpy as np"
   ]
  },
  {
   "cell_type": "code",
   "execution_count": 2,
   "metadata": {},
   "outputs": [],
   "source": [
    "p = Portfolio('RealData/Info.csv')"
   ]
  },
  {
   "cell_type": "code",
   "execution_count": 3,
   "metadata": {},
   "outputs": [
    {
     "output_type": "execute_result",
     "data": {
      "text/plain": [
       "            Profit/Loss  Invested  Profit/Loss%        Value        Gains  \\\n",
       "Date                                                                        \n",
       "2020-10-21 -2198.517973   3803.49    -57.802649  1604.972027   -51.208018   \n",
       "2020-10-22 -2140.669986   3803.49    -56.281730  1662.820014    57.847987   \n",
       "2020-10-23  -293.423949   3803.49     -7.714598  3510.066051  1847.246037   \n",
       "2020-10-26 -2170.512895   3803.49    -57.066349  1632.977105 -1877.088945   \n",
       "2020-10-27  -126.141457   3803.49     -3.316466  3677.348543  2044.371438   \n",
       "\n",
       "                Gains%  \n",
       "Date                    \n",
       "2020-10-21   -3.091935  \n",
       "2020-10-22    3.604299  \n",
       "2020-10-23  111.091160  \n",
       "2020-10-26  -53.477311  \n",
       "2020-10-27  125.192903  "
      ],
      "text/html": "<div>\n<style scoped>\n    .dataframe tbody tr th:only-of-type {\n        vertical-align: middle;\n    }\n\n    .dataframe tbody tr th {\n        vertical-align: top;\n    }\n\n    .dataframe thead th {\n        text-align: right;\n    }\n</style>\n<table border=\"1\" class=\"dataframe\">\n  <thead>\n    <tr style=\"text-align: right;\">\n      <th></th>\n      <th>Profit/Loss</th>\n      <th>Invested</th>\n      <th>Profit/Loss%</th>\n      <th>Value</th>\n      <th>Gains</th>\n      <th>Gains%</th>\n    </tr>\n    <tr>\n      <th>Date</th>\n      <th></th>\n      <th></th>\n      <th></th>\n      <th></th>\n      <th></th>\n      <th></th>\n    </tr>\n  </thead>\n  <tbody>\n    <tr>\n      <th>2020-10-21</th>\n      <td>-2198.517973</td>\n      <td>3803.49</td>\n      <td>-57.802649</td>\n      <td>1604.972027</td>\n      <td>-51.208018</td>\n      <td>-3.091935</td>\n    </tr>\n    <tr>\n      <th>2020-10-22</th>\n      <td>-2140.669986</td>\n      <td>3803.49</td>\n      <td>-56.281730</td>\n      <td>1662.820014</td>\n      <td>57.847987</td>\n      <td>3.604299</td>\n    </tr>\n    <tr>\n      <th>2020-10-23</th>\n      <td>-293.423949</td>\n      <td>3803.49</td>\n      <td>-7.714598</td>\n      <td>3510.066051</td>\n      <td>1847.246037</td>\n      <td>111.091160</td>\n    </tr>\n    <tr>\n      <th>2020-10-26</th>\n      <td>-2170.512895</td>\n      <td>3803.49</td>\n      <td>-57.066349</td>\n      <td>1632.977105</td>\n      <td>-1877.088945</td>\n      <td>-53.477311</td>\n    </tr>\n    <tr>\n      <th>2020-10-27</th>\n      <td>-126.141457</td>\n      <td>3803.49</td>\n      <td>-3.316466</td>\n      <td>3677.348543</td>\n      <td>2044.371438</td>\n      <td>125.192903</td>\n    </tr>\n  </tbody>\n</table>\n</div>"
     },
     "metadata": {},
     "execution_count": 3
    }
   ],
   "source": [
    "p.data.tail()"
   ]
  },
  {
   "cell_type": "code",
   "execution_count": 16,
   "metadata": {},
   "outputs": [],
   "source": [
    "def get_new_data(startDate):\n",
    "    \"\"\"\n",
    "    Estract date from yahoo finance based on the start date and returns them.\n",
    "    :param startDate: datetime.date\n",
    "    :return pd.DataFrame\n",
    "    \"\"\"\n",
    "    newData = yf.Ticker('WMT').history(start=startDate)\n",
    "    newData['Date'] = newData.index\n",
    "    newData['Date'] = newData['Date'].apply(lambda x: x.date())\n",
    "    newData.set_index('Date', inplace=True)\n",
    "    return newData"
   ]
  },
  {
   "cell_type": "code",
   "execution_count": 14,
   "metadata": {},
   "outputs": [
    {
     "output_type": "execute_result",
     "data": {
      "text/plain": [
       "                  Open        High         Low       Close   Volume  \\\n",
       "Date                                                                  \n",
       "2020-10-21  524.400024  532.000000  500.799988  504.200012  4199071   \n",
       "2020-10-22  498.000000  537.400024  482.000000  534.599976  3352627   \n",
       "2020-10-23  536.000000  556.200012  531.599976  548.400024  3689510   \n",
       "2020-10-26  548.400024  548.400024  548.400024  548.400024        0   \n",
       "2020-10-27  539.799988  552.599976  507.000000  520.000000  1167286   \n",
       "\n",
       "            Dividends  Stock Splits  Prev Close      Var%  Var_from_Ini_%  \\\n",
       "Date                                                                        \n",
       "2020-10-21          0             0  521.400024 -3.298813        1.407884   \n",
       "2020-10-22          0             0  504.200012  6.029346        7.522116   \n",
       "2020-10-23          0             0  534.599976  2.581378       10.297669   \n",
       "2020-10-26          0             0  548.400024  0.000000       10.297669   \n",
       "2020-10-27          0             0  548.400024 -5.178706        4.585677   \n",
       "\n",
       "            Profit/Loss  Present_Value  Invested    OK  \n",
       "Date                                                    \n",
       "2020-10-21    48.400024    1008.400024     960.0  True  \n",
       "2020-10-22   109.199951    1069.199951     960.0  True  \n",
       "2020-10-23   136.800049    1096.800049     960.0  True  \n",
       "2020-10-26   136.800049    1096.800049     960.0  True  \n",
       "2020-10-27    80.000000    1040.000000     960.0  True  "
      ],
      "text/html": "<div>\n<style scoped>\n    .dataframe tbody tr th:only-of-type {\n        vertical-align: middle;\n    }\n\n    .dataframe tbody tr th {\n        vertical-align: top;\n    }\n\n    .dataframe thead th {\n        text-align: right;\n    }\n</style>\n<table border=\"1\" class=\"dataframe\">\n  <thead>\n    <tr style=\"text-align: right;\">\n      <th></th>\n      <th>Open</th>\n      <th>High</th>\n      <th>Low</th>\n      <th>Close</th>\n      <th>Volume</th>\n      <th>Dividends</th>\n      <th>Stock Splits</th>\n      <th>Prev Close</th>\n      <th>Var%</th>\n      <th>Var_from_Ini_%</th>\n      <th>Profit/Loss</th>\n      <th>Present_Value</th>\n      <th>Invested</th>\n      <th>OK</th>\n    </tr>\n    <tr>\n      <th>Date</th>\n      <th></th>\n      <th></th>\n      <th></th>\n      <th></th>\n      <th></th>\n      <th></th>\n      <th></th>\n      <th></th>\n      <th></th>\n      <th></th>\n      <th></th>\n      <th></th>\n      <th></th>\n      <th></th>\n    </tr>\n  </thead>\n  <tbody>\n    <tr>\n      <th>2020-10-21</th>\n      <td>524.400024</td>\n      <td>532.000000</td>\n      <td>500.799988</td>\n      <td>504.200012</td>\n      <td>4199071</td>\n      <td>0</td>\n      <td>0</td>\n      <td>521.400024</td>\n      <td>-3.298813</td>\n      <td>1.407884</td>\n      <td>48.400024</td>\n      <td>1008.400024</td>\n      <td>960.0</td>\n      <td>True</td>\n    </tr>\n    <tr>\n      <th>2020-10-22</th>\n      <td>498.000000</td>\n      <td>537.400024</td>\n      <td>482.000000</td>\n      <td>534.599976</td>\n      <td>3352627</td>\n      <td>0</td>\n      <td>0</td>\n      <td>504.200012</td>\n      <td>6.029346</td>\n      <td>7.522116</td>\n      <td>109.199951</td>\n      <td>1069.199951</td>\n      <td>960.0</td>\n      <td>True</td>\n    </tr>\n    <tr>\n      <th>2020-10-23</th>\n      <td>536.000000</td>\n      <td>556.200012</td>\n      <td>531.599976</td>\n      <td>548.400024</td>\n      <td>3689510</td>\n      <td>0</td>\n      <td>0</td>\n      <td>534.599976</td>\n      <td>2.581378</td>\n      <td>10.297669</td>\n      <td>136.800049</td>\n      <td>1096.800049</td>\n      <td>960.0</td>\n      <td>True</td>\n    </tr>\n    <tr>\n      <th>2020-10-26</th>\n      <td>548.400024</td>\n      <td>548.400024</td>\n      <td>548.400024</td>\n      <td>548.400024</td>\n      <td>0</td>\n      <td>0</td>\n      <td>0</td>\n      <td>548.400024</td>\n      <td>0.000000</td>\n      <td>10.297669</td>\n      <td>136.800049</td>\n      <td>1096.800049</td>\n      <td>960.0</td>\n      <td>True</td>\n    </tr>\n    <tr>\n      <th>2020-10-27</th>\n      <td>539.799988</td>\n      <td>552.599976</td>\n      <td>507.000000</td>\n      <td>520.000000</td>\n      <td>1167286</td>\n      <td>0</td>\n      <td>0</td>\n      <td>548.400024</td>\n      <td>-5.178706</td>\n      <td>4.585677</td>\n      <td>80.000000</td>\n      <td>1040.000000</td>\n      <td>960.0</td>\n      <td>True</td>\n    </tr>\n  </tbody>\n</table>\n</div>"
     },
     "metadata": {},
     "execution_count": 14
    }
   ],
   "source": [
    "data = pd.read_csv('RealData/ETFs/EZJ.L-0.csv', parse_dates=True)\n",
    "str_to_date = lambda x: date(int(x.split('-')[0]),int(x.split('-')[1]),int(x.split('-')[2].split(' ')[0]))\n",
    "data = data[data['Date'] != data['Date'].shift(1)]\n",
    "data['Date'] = data['Date'].apply(str_to_date)\n",
    "data.set_index('Date', inplace=True)\n",
    "data.tail()"
   ]
  },
  {
   "cell_type": "code",
   "execution_count": 18,
   "metadata": {},
   "outputs": [],
   "source": [
    "newData = get_new_data(data.index[-1])\n",
    "a = list(newData.index)\n",
    "if len(a) > 1:\n",
    "    if a[-1] == a[-2]:\n",
    "        a[-1] = nextWeekDay(a[-1])\n",
    "    newData.index = a"
   ]
  },
  {
   "cell_type": "code",
   "execution_count": 19,
   "metadata": {},
   "outputs": [
    {
     "output_type": "execute_result",
     "data": {
      "text/plain": [
       "                  Open        High         Low       Close   Volume  \\\n",
       "2020-10-26  142.839996  143.119995  140.940002  142.160004  5366800   \n",
       "2020-10-27  142.839996  142.720001  142.080002  142.669998   165341   \n",
       "\n",
       "            Dividends  Stock Splits  \n",
       "2020-10-26          0             0  \n",
       "2020-10-27          0             0  "
      ],
      "text/html": "<div>\n<style scoped>\n    .dataframe tbody tr th:only-of-type {\n        vertical-align: middle;\n    }\n\n    .dataframe tbody tr th {\n        vertical-align: top;\n    }\n\n    .dataframe thead th {\n        text-align: right;\n    }\n</style>\n<table border=\"1\" class=\"dataframe\">\n  <thead>\n    <tr style=\"text-align: right;\">\n      <th></th>\n      <th>Open</th>\n      <th>High</th>\n      <th>Low</th>\n      <th>Close</th>\n      <th>Volume</th>\n      <th>Dividends</th>\n      <th>Stock Splits</th>\n    </tr>\n  </thead>\n  <tbody>\n    <tr>\n      <th>2020-10-26</th>\n      <td>142.839996</td>\n      <td>143.119995</td>\n      <td>140.940002</td>\n      <td>142.160004</td>\n      <td>5366800</td>\n      <td>0</td>\n      <td>0</td>\n    </tr>\n    <tr>\n      <th>2020-10-27</th>\n      <td>142.839996</td>\n      <td>142.720001</td>\n      <td>142.080002</td>\n      <td>142.669998</td>\n      <td>165341</td>\n      <td>0</td>\n      <td>0</td>\n    </tr>\n  </tbody>\n</table>\n</div>"
     },
     "metadata": {},
     "execution_count": 19
    }
   ],
   "source": [
    "newData"
   ]
  },
  {
   "cell_type": "code",
   "execution_count": 17,
   "metadata": {},
   "outputs": [],
   "source": [
    "def nextWeekDay(day):\n",
    "    weekDay = day.weekday()\n",
    "    if weekDay < 4 or weekDay == 6:\n",
    "        return day + timedelta(1)\n",
    "    else:\n",
    "        return day + timedelta(7-weekDay)"
   ]
  },
  {
   "cell_type": "code",
   "execution_count": 20,
   "metadata": {},
   "outputs": [],
   "source": [
    "for row in newData.index:\n",
    "    if row in data.index:\n",
    "        data.drop(row, inplace=True)\n",
    "data = pd.concat([data, newData]) "
   ]
  },
  {
   "cell_type": "code",
   "execution_count": 21,
   "metadata": {},
   "outputs": [
    {
     "output_type": "execute_result",
     "data": {
      "text/plain": [
       "                  Open        High         Low       Close   Volume  \\\n",
       "2020-10-21  524.400024  532.000000  500.799988  504.200012  4199071   \n",
       "2020-10-22  498.000000  537.400024  482.000000  534.599976  3352627   \n",
       "2020-10-23  536.000000  556.200012  531.599976  548.400024  3689510   \n",
       "2020-10-26  142.839996  143.119995  140.940002  142.160004  5366800   \n",
       "2020-10-27  142.839996  142.720001  142.080002  142.669998   165341   \n",
       "\n",
       "            Dividends  Stock Splits  Prev Close      Var%  Var_from_Ini_%  \\\n",
       "2020-10-21          0             0  521.400024 -3.298813        1.407884   \n",
       "2020-10-22          0             0  504.200012  6.029346        7.522116   \n",
       "2020-10-23          0             0  534.599976  2.581378       10.297669   \n",
       "2020-10-26          0             0         NaN       NaN             NaN   \n",
       "2020-10-27          0             0         NaN       NaN             NaN   \n",
       "\n",
       "            Profit/Loss  Present_Value  Invested    OK  \n",
       "2020-10-21    48.400024    1008.400024     960.0  True  \n",
       "2020-10-22   109.199951    1069.199951     960.0  True  \n",
       "2020-10-23   136.800049    1096.800049     960.0  True  \n",
       "2020-10-26          NaN            NaN       NaN   NaN  \n",
       "2020-10-27          NaN            NaN       NaN   NaN  "
      ],
      "text/html": "<div>\n<style scoped>\n    .dataframe tbody tr th:only-of-type {\n        vertical-align: middle;\n    }\n\n    .dataframe tbody tr th {\n        vertical-align: top;\n    }\n\n    .dataframe thead th {\n        text-align: right;\n    }\n</style>\n<table border=\"1\" class=\"dataframe\">\n  <thead>\n    <tr style=\"text-align: right;\">\n      <th></th>\n      <th>Open</th>\n      <th>High</th>\n      <th>Low</th>\n      <th>Close</th>\n      <th>Volume</th>\n      <th>Dividends</th>\n      <th>Stock Splits</th>\n      <th>Prev Close</th>\n      <th>Var%</th>\n      <th>Var_from_Ini_%</th>\n      <th>Profit/Loss</th>\n      <th>Present_Value</th>\n      <th>Invested</th>\n      <th>OK</th>\n    </tr>\n  </thead>\n  <tbody>\n    <tr>\n      <th>2020-10-21</th>\n      <td>524.400024</td>\n      <td>532.000000</td>\n      <td>500.799988</td>\n      <td>504.200012</td>\n      <td>4199071</td>\n      <td>0</td>\n      <td>0</td>\n      <td>521.400024</td>\n      <td>-3.298813</td>\n      <td>1.407884</td>\n      <td>48.400024</td>\n      <td>1008.400024</td>\n      <td>960.0</td>\n      <td>True</td>\n    </tr>\n    <tr>\n      <th>2020-10-22</th>\n      <td>498.000000</td>\n      <td>537.400024</td>\n      <td>482.000000</td>\n      <td>534.599976</td>\n      <td>3352627</td>\n      <td>0</td>\n      <td>0</td>\n      <td>504.200012</td>\n      <td>6.029346</td>\n      <td>7.522116</td>\n      <td>109.199951</td>\n      <td>1069.199951</td>\n      <td>960.0</td>\n      <td>True</td>\n    </tr>\n    <tr>\n      <th>2020-10-23</th>\n      <td>536.000000</td>\n      <td>556.200012</td>\n      <td>531.599976</td>\n      <td>548.400024</td>\n      <td>3689510</td>\n      <td>0</td>\n      <td>0</td>\n      <td>534.599976</td>\n      <td>2.581378</td>\n      <td>10.297669</td>\n      <td>136.800049</td>\n      <td>1096.800049</td>\n      <td>960.0</td>\n      <td>True</td>\n    </tr>\n    <tr>\n      <th>2020-10-26</th>\n      <td>142.839996</td>\n      <td>143.119995</td>\n      <td>140.940002</td>\n      <td>142.160004</td>\n      <td>5366800</td>\n      <td>0</td>\n      <td>0</td>\n      <td>NaN</td>\n      <td>NaN</td>\n      <td>NaN</td>\n      <td>NaN</td>\n      <td>NaN</td>\n      <td>NaN</td>\n      <td>NaN</td>\n    </tr>\n    <tr>\n      <th>2020-10-27</th>\n      <td>142.839996</td>\n      <td>142.720001</td>\n      <td>142.080002</td>\n      <td>142.669998</td>\n      <td>165341</td>\n      <td>0</td>\n      <td>0</td>\n      <td>NaN</td>\n      <td>NaN</td>\n      <td>NaN</td>\n      <td>NaN</td>\n      <td>NaN</td>\n      <td>NaN</td>\n      <td>NaN</td>\n    </tr>\n  </tbody>\n</table>\n</div>"
     },
     "metadata": {},
     "execution_count": 21
    }
   ],
   "source": [
    "data.tail()"
   ]
  },
  {
   "cell_type": "code",
   "execution_count": 30,
   "metadata": {},
   "outputs": [],
   "source": [
    "data.insert(0, 'Date', data.index)"
   ]
  },
  {
   "cell_type": "code",
   "execution_count": 32,
   "metadata": {},
   "outputs": [
    {
     "output_type": "execute_result",
     "data": {
      "text/plain": [
       "datetime.date(2020, 10, 27)"
      ]
     },
     "metadata": {},
     "execution_count": 32
    }
   ],
   "source": []
  },
  {
   "cell_type": "code",
   "execution_count": 33,
   "metadata": {},
   "outputs": [],
   "source": [
    "#data.to_csv('RealData/ETFs/EZJ.L-0.csv', index=False)"
   ]
  },
  {
   "cell_type": "code",
   "execution_count": 7,
   "metadata": {},
   "outputs": [
    {
     "output_type": "execute_result",
     "data": {
      "text/plain": [
       "                 Open    High        Low      Close  Volume  Dividends  \\\n",
       "Date                                                                     \n",
       "2020-10-27  35.494999  35.715  35.244999  35.244999   51362          0   \n",
       "\n",
       "            Stock Splits  \n",
       "Date                      \n",
       "2020-10-27             0  "
      ],
      "text/html": "<div>\n<style scoped>\n    .dataframe tbody tr th:only-of-type {\n        vertical-align: middle;\n    }\n\n    .dataframe tbody tr th {\n        vertical-align: top;\n    }\n\n    .dataframe thead th {\n        text-align: right;\n    }\n</style>\n<table border=\"1\" class=\"dataframe\">\n  <thead>\n    <tr style=\"text-align: right;\">\n      <th></th>\n      <th>Open</th>\n      <th>High</th>\n      <th>Low</th>\n      <th>Close</th>\n      <th>Volume</th>\n      <th>Dividends</th>\n      <th>Stock Splits</th>\n    </tr>\n    <tr>\n      <th>Date</th>\n      <th></th>\n      <th></th>\n      <th></th>\n      <th></th>\n      <th></th>\n      <th></th>\n      <th></th>\n    </tr>\n  </thead>\n  <tbody>\n    <tr>\n      <th>2020-10-27</th>\n      <td>35.494999</td>\n      <td>35.715</td>\n      <td>35.244999</td>\n      <td>35.244999</td>\n      <td>51362</td>\n      <td>0</td>\n      <td>0</td>\n    </tr>\n  </tbody>\n</table>\n</div>"
     },
     "metadata": {},
     "execution_count": 7
    }
   ],
   "source": [
    "yf.Ticker('LYM9.DE').history(start=date(2020,10,1))"
   ]
  },
  {
   "cell_type": "code",
   "execution_count": 29,
   "metadata": {},
   "outputs": [],
   "source": [
    "b = yf.Ticker('BA').history(start=date(2020,10,1))"
   ]
  },
  {
   "cell_type": "code",
   "execution_count": 30,
   "metadata": {},
   "outputs": [],
   "source": [
    "a = yf.Ticker('EURUSD=X').history(start=date.today()).iloc[-1]['Close']"
   ]
  },
  {
   "cell_type": "code",
   "execution_count": 32,
   "metadata": {},
   "outputs": [],
   "source": [
    "b[['Open','High','Low','Close']] = b[['Open','High','Low','Close']] / a"
   ]
  },
  {
   "cell_type": "code",
   "execution_count": 33,
   "metadata": {},
   "outputs": [
    {
     "output_type": "execute_result",
     "data": {
      "text/plain": [
       "                  Open        High         Low       Close    Volume  \\\n",
       "Date                                                                   \n",
       "2020-09-30  139.232804  144.717472  138.902708  139.876063  37708000   \n",
       "2020-10-01  144.014959  146.224063  140.138458  142.076708  30677100   \n",
       "2020-10-02  136.998308  143.701795  136.947526  142.262918  31773800   \n",
       "2020-10-05  143.456345  145.648518  141.780463  144.903681  19082100   \n",
       "2020-10-06  146.461054  148.593986  134.856917  135.034654  47132500   \n",
       "2020-10-07  138.564154  140.790177  137.438440  139.325908  26019100   \n",
       "2020-10-08  140.688613  142.271377  138.420254  142.195204  20598600   \n",
       "2020-10-09  143.828750  143.888004  141.196458  141.628117  17406000   \n",
       "2020-10-12  141.983604  143.210881  140.460081  141.645049  12176600   \n",
       "2020-10-13  139.960708  140.104595  137.192977  137.235299  15182600   \n",
       "2020-10-14  137.709281  139.799890  137.531544  138.166344  10541800   \n",
       "2020-10-15  136.278863  139.266654  134.349072  139.012745  13226800   \n",
       "2020-10-16  144.920613  146.782691  141.577336  141.645049  31780600   \n",
       "2020-10-19  143.117777  144.598977  140.595508  141.441908  16519600   \n",
       "2020-10-20  142.440654  143.287054  140.654750  141.551945  12319900   \n",
       "2020-10-21  140.874822  141.882040  138.657258  138.691108  11450600   \n",
       "2020-10-22  139.402081  143.574840  138.894249  143.100858  14238200   \n",
       "2020-10-23  143.879545  144.108063  140.544726  141.653508  10024200   \n",
       "2020-10-26  139.613681  140.079204  134.619926  136.126517  16101300   \n",
       "2020-10-27  134.713031  135.635604  131.192004  131.386672  14852461   \n",
       "\n",
       "            Dividends  Stock Splits  \n",
       "Date                                 \n",
       "2020-09-30          0             0  \n",
       "2020-10-01          0             0  \n",
       "2020-10-02          0             0  \n",
       "2020-10-05          0             0  \n",
       "2020-10-06          0             0  \n",
       "2020-10-07          0             0  \n",
       "2020-10-08          0             0  \n",
       "2020-10-09          0             0  \n",
       "2020-10-12          0             0  \n",
       "2020-10-13          0             0  \n",
       "2020-10-14          0             0  \n",
       "2020-10-15          0             0  \n",
       "2020-10-16          0             0  \n",
       "2020-10-19          0             0  \n",
       "2020-10-20          0             0  \n",
       "2020-10-21          0             0  \n",
       "2020-10-22          0             0  \n",
       "2020-10-23          0             0  \n",
       "2020-10-26          0             0  \n",
       "2020-10-27          0             0  "
      ],
      "text/html": "<div>\n<style scoped>\n    .dataframe tbody tr th:only-of-type {\n        vertical-align: middle;\n    }\n\n    .dataframe tbody tr th {\n        vertical-align: top;\n    }\n\n    .dataframe thead th {\n        text-align: right;\n    }\n</style>\n<table border=\"1\" class=\"dataframe\">\n  <thead>\n    <tr style=\"text-align: right;\">\n      <th></th>\n      <th>Open</th>\n      <th>High</th>\n      <th>Low</th>\n      <th>Close</th>\n      <th>Volume</th>\n      <th>Dividends</th>\n      <th>Stock Splits</th>\n    </tr>\n    <tr>\n      <th>Date</th>\n      <th></th>\n      <th></th>\n      <th></th>\n      <th></th>\n      <th></th>\n      <th></th>\n      <th></th>\n    </tr>\n  </thead>\n  <tbody>\n    <tr>\n      <th>2020-09-30</th>\n      <td>139.232804</td>\n      <td>144.717472</td>\n      <td>138.902708</td>\n      <td>139.876063</td>\n      <td>37708000</td>\n      <td>0</td>\n      <td>0</td>\n    </tr>\n    <tr>\n      <th>2020-10-01</th>\n      <td>144.014959</td>\n      <td>146.224063</td>\n      <td>140.138458</td>\n      <td>142.076708</td>\n      <td>30677100</td>\n      <td>0</td>\n      <td>0</td>\n    </tr>\n    <tr>\n      <th>2020-10-02</th>\n      <td>136.998308</td>\n      <td>143.701795</td>\n      <td>136.947526</td>\n      <td>142.262918</td>\n      <td>31773800</td>\n      <td>0</td>\n      <td>0</td>\n    </tr>\n    <tr>\n      <th>2020-10-05</th>\n      <td>143.456345</td>\n      <td>145.648518</td>\n      <td>141.780463</td>\n      <td>144.903681</td>\n      <td>19082100</td>\n      <td>0</td>\n      <td>0</td>\n    </tr>\n    <tr>\n      <th>2020-10-06</th>\n      <td>146.461054</td>\n      <td>148.593986</td>\n      <td>134.856917</td>\n      <td>135.034654</td>\n      <td>47132500</td>\n      <td>0</td>\n      <td>0</td>\n    </tr>\n    <tr>\n      <th>2020-10-07</th>\n      <td>138.564154</td>\n      <td>140.790177</td>\n      <td>137.438440</td>\n      <td>139.325908</td>\n      <td>26019100</td>\n      <td>0</td>\n      <td>0</td>\n    </tr>\n    <tr>\n      <th>2020-10-08</th>\n      <td>140.688613</td>\n      <td>142.271377</td>\n      <td>138.420254</td>\n      <td>142.195204</td>\n      <td>20598600</td>\n      <td>0</td>\n      <td>0</td>\n    </tr>\n    <tr>\n      <th>2020-10-09</th>\n      <td>143.828750</td>\n      <td>143.888004</td>\n      <td>141.196458</td>\n      <td>141.628117</td>\n      <td>17406000</td>\n      <td>0</td>\n      <td>0</td>\n    </tr>\n    <tr>\n      <th>2020-10-12</th>\n      <td>141.983604</td>\n      <td>143.210881</td>\n      <td>140.460081</td>\n      <td>141.645049</td>\n      <td>12176600</td>\n      <td>0</td>\n      <td>0</td>\n    </tr>\n    <tr>\n      <th>2020-10-13</th>\n      <td>139.960708</td>\n      <td>140.104595</td>\n      <td>137.192977</td>\n      <td>137.235299</td>\n      <td>15182600</td>\n      <td>0</td>\n      <td>0</td>\n    </tr>\n    <tr>\n      <th>2020-10-14</th>\n      <td>137.709281</td>\n      <td>139.799890</td>\n      <td>137.531544</td>\n      <td>138.166344</td>\n      <td>10541800</td>\n      <td>0</td>\n      <td>0</td>\n    </tr>\n    <tr>\n      <th>2020-10-15</th>\n      <td>136.278863</td>\n      <td>139.266654</td>\n      <td>134.349072</td>\n      <td>139.012745</td>\n      <td>13226800</td>\n      <td>0</td>\n      <td>0</td>\n    </tr>\n    <tr>\n      <th>2020-10-16</th>\n      <td>144.920613</td>\n      <td>146.782691</td>\n      <td>141.577336</td>\n      <td>141.645049</td>\n      <td>31780600</td>\n      <td>0</td>\n      <td>0</td>\n    </tr>\n    <tr>\n      <th>2020-10-19</th>\n      <td>143.117777</td>\n      <td>144.598977</td>\n      <td>140.595508</td>\n      <td>141.441908</td>\n      <td>16519600</td>\n      <td>0</td>\n      <td>0</td>\n    </tr>\n    <tr>\n      <th>2020-10-20</th>\n      <td>142.440654</td>\n      <td>143.287054</td>\n      <td>140.654750</td>\n      <td>141.551945</td>\n      <td>12319900</td>\n      <td>0</td>\n      <td>0</td>\n    </tr>\n    <tr>\n      <th>2020-10-21</th>\n      <td>140.874822</td>\n      <td>141.882040</td>\n      <td>138.657258</td>\n      <td>138.691108</td>\n      <td>11450600</td>\n      <td>0</td>\n      <td>0</td>\n    </tr>\n    <tr>\n      <th>2020-10-22</th>\n      <td>139.402081</td>\n      <td>143.574840</td>\n      <td>138.894249</td>\n      <td>143.100858</td>\n      <td>14238200</td>\n      <td>0</td>\n      <td>0</td>\n    </tr>\n    <tr>\n      <th>2020-10-23</th>\n      <td>143.879545</td>\n      <td>144.108063</td>\n      <td>140.544726</td>\n      <td>141.653508</td>\n      <td>10024200</td>\n      <td>0</td>\n      <td>0</td>\n    </tr>\n    <tr>\n      <th>2020-10-26</th>\n      <td>139.613681</td>\n      <td>140.079204</td>\n      <td>134.619926</td>\n      <td>136.126517</td>\n      <td>16101300</td>\n      <td>0</td>\n      <td>0</td>\n    </tr>\n    <tr>\n      <th>2020-10-27</th>\n      <td>134.713031</td>\n      <td>135.635604</td>\n      <td>131.192004</td>\n      <td>131.386672</td>\n      <td>14852461</td>\n      <td>0</td>\n      <td>0</td>\n    </tr>\n  </tbody>\n</table>\n</div>"
     },
     "metadata": {},
     "execution_count": 33
    }
   ],
   "source": [
    "b"
   ]
  },
  {
   "cell_type": "code",
   "execution_count": 28,
   "metadata": {},
   "outputs": [
    {
     "output_type": "execute_result",
     "data": {
      "text/plain": [
       "'L'"
      ]
     },
     "metadata": {},
     "execution_count": 28
    }
   ],
   "source": [
    "'SWDA.L-0'.split('-')[0].split('.')[1]"
   ]
  },
  {
   "cell_type": "code",
   "execution_count": null,
   "metadata": {},
   "outputs": [],
   "source": []
  }
 ]
}