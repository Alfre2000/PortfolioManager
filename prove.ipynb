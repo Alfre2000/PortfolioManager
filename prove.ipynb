{
 "metadata": {
  "language_info": {
   "codemirror_mode": {
    "name": "ipython",
    "version": 3
   },
   "file_extension": ".py",
   "mimetype": "text/x-python",
   "name": "python",
   "nbconvert_exporter": "python",
   "pygments_lexer": "ipython3",
   "version": "3.7.6-final"
  },
  "orig_nbformat": 2,
  "kernelspec": {
   "name": "Python 3.7.6 64-bit ('anaconda3': virtualenv)",
   "display_name": "Python 3.7.6 64-bit ('anaconda3': virtualenv)",
   "metadata": {
    "interpreter": {
     "hash": "6199434e1c69c922b780995880f4a1c964a67fae91d0cdce645c90c3ca0fcd57"
    }
   }
  }
 },
 "nbformat": 4,
 "nbformat_minor": 2,
 "cells": [
  {
   "cell_type": "code",
   "execution_count": 1,
   "metadata": {},
   "outputs": [],
   "source": [
    "from portfolio import Portfolio\n",
    "from datetime import date, timedelta, datetime\n",
    "import yfinance as yf\n",
    "import pandas as pd\n",
    "from etf import ETF\n",
    "import numpy as np"
   ]
  },
  {
   "cell_type": "code",
   "execution_count": 8,
   "metadata": {},
   "outputs": [],
   "source": [
    "p = Portfolio('RealData/Info.csv')"
   ]
  },
  {
   "cell_type": "code",
   "execution_count": 6,
   "metadata": {},
   "outputs": [],
   "source": [
    "data = pd.read_csv('RealData/ETFs/EZJ.L-0.csv', parse_dates=True)\n",
    "str_to_date = lambda x: date(int(x.split('-')[0]),int(x.split('-')[1]),int(x.split('-')[2].split(' ')[0]))\n",
    "data = data[data['Date'] != data['Date'].shift(1)]\n",
    "data['Date'] = data['Date'].apply(str_to_date)\n",
    "data.set_index('Date', inplace=True)\n",
    "EURGBP = yf.Ticker('GBPEUR=X').history(start=date.today()).iloc[-1]['Close']\n",
    "data[['Open','High','Low','Close']] = data[['Open','High','Low','Close']] * EURGBP / 100"
   ]
  },
  {
   "cell_type": "code",
   "execution_count": 8,
   "metadata": {},
   "outputs": [],
   "source": [
    "#data.insert(0, 'Date', data.index)\n",
    "#data.to_csv('RealData/ETFs/EZJ.L-0.csv', index=False)"
   ]
  },
  {
   "cell_type": "code",
   "execution_count": 9,
   "metadata": {},
   "outputs": [
    {
     "output_type": "execute_result",
     "data": {
      "text/plain": [
       "True"
      ]
     },
     "metadata": {},
     "execution_count": 9
    }
   ],
   "source": [
    "'EZJ.L-0'.split('.')[0] in ['EZJ']"
   ]
  },
  {
   "cell_type": "code",
   "execution_count": 11,
   "metadata": {},
   "outputs": [],
   "source": [
    "newData = yf.Ticker('EZJ.L').history(start=date(2020,11,3))\n",
    "newData['Date'] = newData.index\n",
    "newData['Date'] = newData['Date'].apply(lambda x: x.date())\n",
    "newData.set_index('Date', inplace=True)\n",
    "idx = list(newData.index)\n",
    "if len(idx) > 1:\n",
    "    if idx[-1] == idx[-2]:\n",
    "        idx[-1] = nextWeekDay(idx[-1])\n",
    "    newData.index = idx"
   ]
  },
  {
   "cell_type": "code",
   "execution_count": 13,
   "metadata": {},
   "outputs": [],
   "source": [
    "EURGBP = yf.Ticker('GBPEUR=X').history(start=date.today()).iloc[-1]['Close']\n",
    "newData[['Open','High','Low','Close']] = newData[['Open','High','Low','Close']] * EURGBP / 100"
   ]
  },
  {
   "cell_type": "code",
   "execution_count": 14,
   "metadata": {},
   "outputs": [
    {
     "output_type": "execute_result",
     "data": {
      "text/plain": [
       "                Open      High       Low     Close   Volume  Dividends  \\\n",
       "2020-11-02  5.493373  5.749345  5.108726  5.635827  4420389          0   \n",
       "2020-11-03  5.631375  5.851733  5.620246  5.849507  2685516          0   \n",
       "\n",
       "            Stock Splits  \n",
       "2020-11-02             0  \n",
       "2020-11-03             0  "
      ],
      "text/html": "<div>\n<style scoped>\n    .dataframe tbody tr th:only-of-type {\n        vertical-align: middle;\n    }\n\n    .dataframe tbody tr th {\n        vertical-align: top;\n    }\n\n    .dataframe thead th {\n        text-align: right;\n    }\n</style>\n<table border=\"1\" class=\"dataframe\">\n  <thead>\n    <tr style=\"text-align: right;\">\n      <th></th>\n      <th>Open</th>\n      <th>High</th>\n      <th>Low</th>\n      <th>Close</th>\n      <th>Volume</th>\n      <th>Dividends</th>\n      <th>Stock Splits</th>\n    </tr>\n  </thead>\n  <tbody>\n    <tr>\n      <th>2020-11-02</th>\n      <td>5.493373</td>\n      <td>5.749345</td>\n      <td>5.108726</td>\n      <td>5.635827</td>\n      <td>4420389</td>\n      <td>0</td>\n      <td>0</td>\n    </tr>\n    <tr>\n      <th>2020-11-03</th>\n      <td>5.631375</td>\n      <td>5.851733</td>\n      <td>5.620246</td>\n      <td>5.849507</td>\n      <td>2685516</td>\n      <td>0</td>\n      <td>0</td>\n    </tr>\n  </tbody>\n</table>\n</div>"
     },
     "metadata": {},
     "execution_count": 14
    }
   ],
   "source": [
    "newData"
   ]
  },
  {
   "cell_type": "code",
   "execution_count": null,
   "metadata": {},
   "outputs": [],
   "source": []
  }
 ]
}