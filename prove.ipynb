{
 "metadata": {
  "language_info": {
   "codemirror_mode": {
    "name": "ipython",
    "version": 3
   },
   "file_extension": ".py",
   "mimetype": "text/x-python",
   "name": "python",
   "nbconvert_exporter": "python",
   "pygments_lexer": "ipython3",
   "version": "3.7.6-final"
  },
  "orig_nbformat": 2,
  "kernelspec": {
   "name": "Python 3.7.6 64-bit ('anaconda3': virtualenv)",
   "display_name": "Python 3.7.6 64-bit ('anaconda3': virtualenv)",
   "metadata": {
    "interpreter": {
     "hash": "6199434e1c69c922b780995880f4a1c964a67fae91d0cdce645c90c3ca0fcd57"
    }
   }
  }
 },
 "nbformat": 4,
 "nbformat_minor": 2,
 "cells": [
  {
   "cell_type": "code",
   "execution_count": 2,
   "metadata": {},
   "outputs": [],
   "source": [
    "from portfolio import Portfolio\n",
    "from datetime import date, timedelta, datetime\n",
    "import yfinance as yf\n",
    "import pandas as pd\n",
    "from etf import ETF\n",
    "import numpy as np"
   ]
  },
  {
   "cell_type": "code",
   "execution_count": 8,
   "metadata": {},
   "outputs": [],
   "source": [
    "p = Portfolio('RealData/Info.csv')"
   ]
  },
  {
   "cell_type": "code",
   "execution_count": 9,
   "metadata": {},
   "outputs": [],
   "source": [
    "data = pd.read_csv('Info.csv', parse_dates=True)"
   ]
  },
  {
   "cell_type": "code",
   "execution_count": 11,
   "metadata": {},
   "outputs": [
    {
     "output_type": "execute_result",
     "data": {
      "text/plain": [
       "           Name    buy_date  n_shares  buy_price  commissions_ini   sell_date  \\\n",
       "13    GDXJ.MI-1  2020-05-29        87      34.62            10.23         NaN   \n",
       "12    GDXJ.MI-0  2020-04-15        26      28.91             6.50         NaN   \n",
       "11    SWDA.MI-2  2020-03-19        36      41.78            10.35         NaN   \n",
       "7      CL2.MI-0  2020-02-11         1    2734.00            16.50  2020-05-27   \n",
       "8   CSEMUS.MI-0  2020-02-11         7     221.35             7.78         NaN   \n",
       "9   CSEMUS.MI-1  2020-02-11        11     221.20             7.78         NaN   \n",
       "10    SWDA.MI-1  2020-02-11        70      59.61            10.35         NaN   \n",
       "6     AEEM.MI-2  2020-01-08       450       4.51             6.89         NaN   \n",
       "4     IWDP.MI-0  2020-01-03       100      25.01             9.00         NaN   \n",
       "5     AEEM.MI-1  2020-01-03       330       4.53             6.88         NaN   \n",
       "0     AEEM.MI-0  2019-11-21       360       4.21             6.89         NaN   \n",
       "1     SWDA.MI-0  2019-11-21        64      54.86            10.35         NaN   \n",
       "2     IUSE.MI-0  2019-11-21        22      68.36             6.61         NaN   \n",
       "3      UST.MI-0  2019-11-21        51      29.34             6.34         NaN   \n",
       "\n",
       "    sell_price info  sell_commissions  \n",
       "13         NaN   {}               0.0  \n",
       "12         NaN   {}               0.0  \n",
       "11         NaN   {}               0.0  \n",
       "7       1986.0   {}              16.5  \n",
       "8          NaN   {}               0.0  \n",
       "9          NaN   {}               0.0  \n",
       "10         NaN   {}               0.0  \n",
       "6          NaN   {}               0.0  \n",
       "4          NaN   {}               0.0  \n",
       "5          NaN   {}               0.0  \n",
       "0          NaN   {}               0.0  \n",
       "1          NaN   {}               0.0  \n",
       "2          NaN   {}               0.0  \n",
       "3          NaN   {}               0.0  "
      ],
      "text/html": "<div>\n<style scoped>\n    .dataframe tbody tr th:only-of-type {\n        vertical-align: middle;\n    }\n\n    .dataframe tbody tr th {\n        vertical-align: top;\n    }\n\n    .dataframe thead th {\n        text-align: right;\n    }\n</style>\n<table border=\"1\" class=\"dataframe\">\n  <thead>\n    <tr style=\"text-align: right;\">\n      <th></th>\n      <th>Name</th>\n      <th>buy_date</th>\n      <th>n_shares</th>\n      <th>buy_price</th>\n      <th>commissions_ini</th>\n      <th>sell_date</th>\n      <th>sell_price</th>\n      <th>info</th>\n      <th>sell_commissions</th>\n    </tr>\n  </thead>\n  <tbody>\n    <tr>\n      <th>13</th>\n      <td>GDXJ.MI-1</td>\n      <td>2020-05-29</td>\n      <td>87</td>\n      <td>34.62</td>\n      <td>10.23</td>\n      <td>NaN</td>\n      <td>NaN</td>\n      <td>{}</td>\n      <td>0.0</td>\n    </tr>\n    <tr>\n      <th>12</th>\n      <td>GDXJ.MI-0</td>\n      <td>2020-04-15</td>\n      <td>26</td>\n      <td>28.91</td>\n      <td>6.50</td>\n      <td>NaN</td>\n      <td>NaN</td>\n      <td>{}</td>\n      <td>0.0</td>\n    </tr>\n    <tr>\n      <th>11</th>\n      <td>SWDA.MI-2</td>\n      <td>2020-03-19</td>\n      <td>36</td>\n      <td>41.78</td>\n      <td>10.35</td>\n      <td>NaN</td>\n      <td>NaN</td>\n      <td>{}</td>\n      <td>0.0</td>\n    </tr>\n    <tr>\n      <th>7</th>\n      <td>CL2.MI-0</td>\n      <td>2020-02-11</td>\n      <td>1</td>\n      <td>2734.00</td>\n      <td>16.50</td>\n      <td>2020-05-27</td>\n      <td>1986.0</td>\n      <td>{}</td>\n      <td>16.5</td>\n    </tr>\n    <tr>\n      <th>8</th>\n      <td>CSEMUS.MI-0</td>\n      <td>2020-02-11</td>\n      <td>7</td>\n      <td>221.35</td>\n      <td>7.78</td>\n      <td>NaN</td>\n      <td>NaN</td>\n      <td>{}</td>\n      <td>0.0</td>\n    </tr>\n    <tr>\n      <th>9</th>\n      <td>CSEMUS.MI-1</td>\n      <td>2020-02-11</td>\n      <td>11</td>\n      <td>221.20</td>\n      <td>7.78</td>\n      <td>NaN</td>\n      <td>NaN</td>\n      <td>{}</td>\n      <td>0.0</td>\n    </tr>\n    <tr>\n      <th>10</th>\n      <td>SWDA.MI-1</td>\n      <td>2020-02-11</td>\n      <td>70</td>\n      <td>59.61</td>\n      <td>10.35</td>\n      <td>NaN</td>\n      <td>NaN</td>\n      <td>{}</td>\n      <td>0.0</td>\n    </tr>\n    <tr>\n      <th>6</th>\n      <td>AEEM.MI-2</td>\n      <td>2020-01-08</td>\n      <td>450</td>\n      <td>4.51</td>\n      <td>6.89</td>\n      <td>NaN</td>\n      <td>NaN</td>\n      <td>{}</td>\n      <td>0.0</td>\n    </tr>\n    <tr>\n      <th>4</th>\n      <td>IWDP.MI-0</td>\n      <td>2020-01-03</td>\n      <td>100</td>\n      <td>25.01</td>\n      <td>9.00</td>\n      <td>NaN</td>\n      <td>NaN</td>\n      <td>{}</td>\n      <td>0.0</td>\n    </tr>\n    <tr>\n      <th>5</th>\n      <td>AEEM.MI-1</td>\n      <td>2020-01-03</td>\n      <td>330</td>\n      <td>4.53</td>\n      <td>6.88</td>\n      <td>NaN</td>\n      <td>NaN</td>\n      <td>{}</td>\n      <td>0.0</td>\n    </tr>\n    <tr>\n      <th>0</th>\n      <td>AEEM.MI-0</td>\n      <td>2019-11-21</td>\n      <td>360</td>\n      <td>4.21</td>\n      <td>6.89</td>\n      <td>NaN</td>\n      <td>NaN</td>\n      <td>{}</td>\n      <td>0.0</td>\n    </tr>\n    <tr>\n      <th>1</th>\n      <td>SWDA.MI-0</td>\n      <td>2019-11-21</td>\n      <td>64</td>\n      <td>54.86</td>\n      <td>10.35</td>\n      <td>NaN</td>\n      <td>NaN</td>\n      <td>{}</td>\n      <td>0.0</td>\n    </tr>\n    <tr>\n      <th>2</th>\n      <td>IUSE.MI-0</td>\n      <td>2019-11-21</td>\n      <td>22</td>\n      <td>68.36</td>\n      <td>6.61</td>\n      <td>NaN</td>\n      <td>NaN</td>\n      <td>{}</td>\n      <td>0.0</td>\n    </tr>\n    <tr>\n      <th>3</th>\n      <td>UST.MI-0</td>\n      <td>2019-11-21</td>\n      <td>51</td>\n      <td>29.34</td>\n      <td>6.34</td>\n      <td>NaN</td>\n      <td>NaN</td>\n      <td>{}</td>\n      <td>0.0</td>\n    </tr>\n  </tbody>\n</table>\n</div>"
     },
     "metadata": {},
     "execution_count": 11
    }
   ],
   "source": [
    "data.sort_values(by='buy_date', axis=0, ascending=False, inplace=True)"
   ]
  },
  {
   "cell_type": "code",
   "execution_count": 12,
   "metadata": {},
   "outputs": [
    {
     "output_type": "execute_result",
     "data": {
      "text/plain": [
       "           Name    buy_date  n_shares  buy_price  commissions_ini   sell_date  \\\n",
       "0     AEEM.MI-0  2019-11-21       360       4.21             6.89         NaN   \n",
       "1     SWDA.MI-0  2019-11-21        64      54.86            10.35         NaN   \n",
       "2     IUSE.MI-0  2019-11-21        22      68.36             6.61         NaN   \n",
       "3      UST.MI-0  2019-11-21        51      29.34             6.34         NaN   \n",
       "4     IWDP.MI-0  2020-01-03       100      25.01             9.00         NaN   \n",
       "5     AEEM.MI-1  2020-01-03       330       4.53             6.88         NaN   \n",
       "6     AEEM.MI-2  2020-01-08       450       4.51             6.89         NaN   \n",
       "7      CL2.MI-0  2020-02-11         1    2734.00            16.50  2020-05-27   \n",
       "8   CSEMUS.MI-0  2020-02-11         7     221.35             7.78         NaN   \n",
       "9   CSEMUS.MI-1  2020-02-11        11     221.20             7.78         NaN   \n",
       "10    SWDA.MI-1  2020-02-11        70      59.61            10.35         NaN   \n",
       "11    SWDA.MI-2  2020-03-19        36      41.78            10.35         NaN   \n",
       "12    GDXJ.MI-0  2020-04-15        26      28.91             6.50         NaN   \n",
       "13    GDXJ.MI-1  2020-05-29        87      34.62            10.23         NaN   \n",
       "\n",
       "    sell_price info  sell_commissions  \n",
       "0          NaN   {}               0.0  \n",
       "1          NaN   {}               0.0  \n",
       "2          NaN   {}               0.0  \n",
       "3          NaN   {}               0.0  \n",
       "4          NaN   {}               0.0  \n",
       "5          NaN   {}               0.0  \n",
       "6          NaN   {}               0.0  \n",
       "7       1986.0   {}              16.5  \n",
       "8          NaN   {}               0.0  \n",
       "9          NaN   {}               0.0  \n",
       "10         NaN   {}               0.0  \n",
       "11         NaN   {}               0.0  \n",
       "12         NaN   {}               0.0  \n",
       "13         NaN   {}               0.0  "
      ],
      "text/html": "<div>\n<style scoped>\n    .dataframe tbody tr th:only-of-type {\n        vertical-align: middle;\n    }\n\n    .dataframe tbody tr th {\n        vertical-align: top;\n    }\n\n    .dataframe thead th {\n        text-align: right;\n    }\n</style>\n<table border=\"1\" class=\"dataframe\">\n  <thead>\n    <tr style=\"text-align: right;\">\n      <th></th>\n      <th>Name</th>\n      <th>buy_date</th>\n      <th>n_shares</th>\n      <th>buy_price</th>\n      <th>commissions_ini</th>\n      <th>sell_date</th>\n      <th>sell_price</th>\n      <th>info</th>\n      <th>sell_commissions</th>\n    </tr>\n  </thead>\n  <tbody>\n    <tr>\n      <th>0</th>\n      <td>AEEM.MI-0</td>\n      <td>2019-11-21</td>\n      <td>360</td>\n      <td>4.21</td>\n      <td>6.89</td>\n      <td>NaN</td>\n      <td>NaN</td>\n      <td>{}</td>\n      <td>0.0</td>\n    </tr>\n    <tr>\n      <th>1</th>\n      <td>SWDA.MI-0</td>\n      <td>2019-11-21</td>\n      <td>64</td>\n      <td>54.86</td>\n      <td>10.35</td>\n      <td>NaN</td>\n      <td>NaN</td>\n      <td>{}</td>\n      <td>0.0</td>\n    </tr>\n    <tr>\n      <th>2</th>\n      <td>IUSE.MI-0</td>\n      <td>2019-11-21</td>\n      <td>22</td>\n      <td>68.36</td>\n      <td>6.61</td>\n      <td>NaN</td>\n      <td>NaN</td>\n      <td>{}</td>\n      <td>0.0</td>\n    </tr>\n    <tr>\n      <th>3</th>\n      <td>UST.MI-0</td>\n      <td>2019-11-21</td>\n      <td>51</td>\n      <td>29.34</td>\n      <td>6.34</td>\n      <td>NaN</td>\n      <td>NaN</td>\n      <td>{}</td>\n      <td>0.0</td>\n    </tr>\n    <tr>\n      <th>4</th>\n      <td>IWDP.MI-0</td>\n      <td>2020-01-03</td>\n      <td>100</td>\n      <td>25.01</td>\n      <td>9.00</td>\n      <td>NaN</td>\n      <td>NaN</td>\n      <td>{}</td>\n      <td>0.0</td>\n    </tr>\n    <tr>\n      <th>5</th>\n      <td>AEEM.MI-1</td>\n      <td>2020-01-03</td>\n      <td>330</td>\n      <td>4.53</td>\n      <td>6.88</td>\n      <td>NaN</td>\n      <td>NaN</td>\n      <td>{}</td>\n      <td>0.0</td>\n    </tr>\n    <tr>\n      <th>6</th>\n      <td>AEEM.MI-2</td>\n      <td>2020-01-08</td>\n      <td>450</td>\n      <td>4.51</td>\n      <td>6.89</td>\n      <td>NaN</td>\n      <td>NaN</td>\n      <td>{}</td>\n      <td>0.0</td>\n    </tr>\n    <tr>\n      <th>7</th>\n      <td>CL2.MI-0</td>\n      <td>2020-02-11</td>\n      <td>1</td>\n      <td>2734.00</td>\n      <td>16.50</td>\n      <td>2020-05-27</td>\n      <td>1986.0</td>\n      <td>{}</td>\n      <td>16.5</td>\n    </tr>\n    <tr>\n      <th>8</th>\n      <td>CSEMUS.MI-0</td>\n      <td>2020-02-11</td>\n      <td>7</td>\n      <td>221.35</td>\n      <td>7.78</td>\n      <td>NaN</td>\n      <td>NaN</td>\n      <td>{}</td>\n      <td>0.0</td>\n    </tr>\n    <tr>\n      <th>9</th>\n      <td>CSEMUS.MI-1</td>\n      <td>2020-02-11</td>\n      <td>11</td>\n      <td>221.20</td>\n      <td>7.78</td>\n      <td>NaN</td>\n      <td>NaN</td>\n      <td>{}</td>\n      <td>0.0</td>\n    </tr>\n    <tr>\n      <th>10</th>\n      <td>SWDA.MI-1</td>\n      <td>2020-02-11</td>\n      <td>70</td>\n      <td>59.61</td>\n      <td>10.35</td>\n      <td>NaN</td>\n      <td>NaN</td>\n      <td>{}</td>\n      <td>0.0</td>\n    </tr>\n    <tr>\n      <th>11</th>\n      <td>SWDA.MI-2</td>\n      <td>2020-03-19</td>\n      <td>36</td>\n      <td>41.78</td>\n      <td>10.35</td>\n      <td>NaN</td>\n      <td>NaN</td>\n      <td>{}</td>\n      <td>0.0</td>\n    </tr>\n    <tr>\n      <th>12</th>\n      <td>GDXJ.MI-0</td>\n      <td>2020-04-15</td>\n      <td>26</td>\n      <td>28.91</td>\n      <td>6.50</td>\n      <td>NaN</td>\n      <td>NaN</td>\n      <td>{}</td>\n      <td>0.0</td>\n    </tr>\n    <tr>\n      <th>13</th>\n      <td>GDXJ.MI-1</td>\n      <td>2020-05-29</td>\n      <td>87</td>\n      <td>34.62</td>\n      <td>10.23</td>\n      <td>NaN</td>\n      <td>NaN</td>\n      <td>{}</td>\n      <td>0.0</td>\n    </tr>\n  </tbody>\n</table>\n</div>"
     },
     "metadata": {},
     "execution_count": 12
    }
   ],
   "source": [
    "data"
   ]
  },
  {
   "cell_type": "code",
   "execution_count": null,
   "metadata": {},
   "outputs": [],
   "source": []
  }
 ]
}